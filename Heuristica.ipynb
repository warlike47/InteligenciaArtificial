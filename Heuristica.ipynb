{
  "nbformat": 4,
  "nbformat_minor": 0,
  "metadata": {
    "colab": {
      "name": "Heuristica.ipynb",
      "provenance": [],
      "collapsed_sections": []
    },
    "kernelspec": {
      "name": "python3",
      "display_name": "Python 3"
    },
    "language_info": {
      "name": "python"
    }
  },
  "cells": [
    {
      "cell_type": "code",
      "metadata": {
        "colab": {
          "base_uri": "https://localhost:8080/"
        },
        "id": "ZPAhir36nb5Y",
        "outputId": "4704dce8-f4b2-41db-dce2-c4528b9649e9"
      },
      "source": [
        "\n",
        "nodes = [\"Start\", \"b6a7\", \"b6c7\", \"Cd5\", \"e3f4\", \"2N\", \"5N\", \"3N\", \"1N\", \"7N\", \"4N\", \"2 2N\", \"6N\"]\n",
        "edges = [[\"Start\", \"b6a7\"], [\"Start\", \"b6c7\"], [\"Start\", \"Cd5\"], [\"Start\", \"e3f4\"],\n",
        "        [\"b6a7\", \"2N\"], [\"b6a7\", \"5N\"],\n",
        "        [\"b6c7\", \"3N\"], [\"b6c7\", \"1N\"],\n",
        "        [\"Cd5\", \"7N\"],\n",
        "        [\"e3f4\", \"4N\"], [\"e3f4\", \"2 2N\"], [\"e3f4\", \"6N\"]]\n",
        "\n",
        "weights = [4, 2, 6, 1, 2, 5, 3, 1, 7, 4, 2, 6]\n",
        "\n",
        "\n",
        "def childrens_node_start(name):\n",
        "  nodosHijos = []\n",
        "\n",
        "  for edge in edges:\n",
        "    if edge[0] == name:\n",
        "      nodosHijos.append(edge[1])\n",
        "\n",
        "  return nodosHijos\n",
        "\n",
        "def sub_edges_matrix(nodosHijos):\n",
        "  matrix = []\n",
        "  for nodo in nodosHijos:\n",
        "    for edge in edges:\n",
        "      if edge[0] == nodo:\n",
        "        matrix.append(edge)\n",
        "  return matrix\n",
        "\n",
        "def less_number(numbers):\n",
        "  value = numbers[0]\n",
        "  for number in numbers:\n",
        "    if number < value:\n",
        "      value = number\n",
        "\n",
        "  return value\n",
        "\n",
        "def greater_number(numbers):\n",
        "  value = numbers[0]\n",
        "  for number in numbers:\n",
        "    if number > value:\n",
        "      value = number\n",
        "\n",
        "  return value\n",
        "\n",
        "def remove_number(numbers, numberToKeep):\n",
        "  numeros = []\n",
        "  for num in numbers:\n",
        "    if num == numberToKeep:\n",
        "      numeros.append(num)\n",
        "\n",
        "  return numeros\n",
        "\n",
        "def show_route(values):\n",
        "  greaterNumber = greater_number(values)\n",
        "  route = []\n",
        "  index = 0\n",
        "  \n",
        "  for i in range(0, len(values)-1):\n",
        "    if values[i] == greaterNumber:\n",
        "      route.append(weights[i])\n",
        "\n",
        "  route = remove_number(route, less_number(route))\n",
        "\n",
        "  childrenEdges = []\n",
        "  for node in childrens_node_start(\"Start\"):\n",
        "    if route[0] == weights[edges.index([\"Start\", node])]:\n",
        "      for n in childrens_node_start(node):\n",
        "        childrenEdges.append(weights[edges.index([node, n])])\n",
        "  \n",
        "  childrenEdges = remove_number(childrenEdges, greater_number(childrenEdges))\n",
        "\n",
        "  route.append(childrenEdges[0])\n",
        "  return route\n",
        "\n",
        "def Heuristic_Search():\n",
        "  \n",
        "  diferences = []\n",
        "  \n",
        "  for node in childrens_node_start(\"Start\"):\n",
        "    value = weights[edges.index([\"Start\", node])]\n",
        "    resto = []\n",
        "    for n in childrens_node_start(node):\n",
        "      number = value - weights[edges.index([node, n])]\n",
        "      resto.append(number)\n",
        "\n",
        "    diferences.append(less_number(resto))\n",
        "    \n",
        "  return show_route(diferences)\n",
        "  \n",
        "print(Heuristic_Search())\n",
        "\n",
        "\n"
      ],
      "execution_count": 89,
      "outputs": [
        {
          "output_type": "stream",
          "name": "stdout",
          "text": [
            "[2, 3]\n"
          ]
        }
      ]
    }
  ]
}